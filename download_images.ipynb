{
 "cells": [
  {
   "cell_type": "code",
   "execution_count": null,
   "id": "2adcd0a8-8dcf-4471-87ae-66ea192c7496",
   "metadata": {},
   "outputs": [],
   "source": [
    "!pip install aiomultiprocess aiohttp"
   ]
  },
  {
   "cell_type": "code",
   "execution_count": null,
   "id": "6741afea",
   "metadata": {},
   "outputs": [],
   "source": [
    "import aiomultiprocess\n",
    "from aiomultiprocess import Pool"
   ]
  },
  {
   "cell_type": "code",
   "execution_count": null,
   "id": "562109fd",
   "metadata": {},
   "outputs": [],
   "source": [
    "# play with this if you experience issues with multiprocessing\n",
    "aiomultiprocess.set_start_method(\"fork\")"
   ]
  },
  {
   "cell_type": "code",
   "execution_count": null,
   "id": "818e3c9b",
   "metadata": {},
   "outputs": [],
   "source": [
    "from aiohttp import request, ClientTimeout\n",
    "from PIL import Image, UnidentifiedImageError\n",
    "from io import BytesIO\n",
    "from tqdm.auto import tqdm\n",
    "import os\n",
    "import asyncio"
   ]
  },
  {
   "cell_type": "code",
   "execution_count": null,
   "id": "2b29f65f",
   "metadata": {},
   "outputs": [],
   "source": [
    "os.makedirs('images', exist_ok=True)\n",
    "photos_downloaded = set(int(x.split('.')[0]) for x in os.listdir('images'))"
   ]
  },
  {
   "cell_type": "code",
   "execution_count": null,
   "id": "6e36fc44",
   "metadata": {},
   "outputs": [],
   "source": [
    "photos = [\n",
    "    ('id_0', 'https://picsum.photos/200/300'),\n",
    "    ('id_1', 'https://picsum.photos/250/350'),\n",
    "    ('id_2', 'https://picsum.photos/300/400'),\n",
    "]"
   ]
  },
  {
   "cell_type": "code",
   "execution_count": null,
   "id": "c5057199",
   "metadata": {},
   "outputs": [],
   "source": [
    "len(photos_downloaded), len(photos)"
   ]
  },
  {
   "cell_type": "code",
   "execution_count": null,
   "id": "ca9b317b",
   "metadata": {},
   "outputs": [],
   "source": [
    "def save_image(content: bytes, path: os.PathLike, reencode: bool = True):\n",
    "    if reencode:\n",
    "        img = Image.open(BytesIO(content))\n",
    "        img = img.convert('RGB')\n",
    "        img.thumbnail((350, 350))\n",
    "        img.save(path, quality=80)\n",
    "    else:\n",
    "        with open(path, 'wb') as f:\n",
    "            f.write(content)\n",
    "\n",
    "async def download(task):\n",
    "    try:\n",
    "        photo_id, url = task\n",
    "        timeout = ClientTimeout(total=30)\n",
    "        async with request(\"GET\", url, timeout=timeout) as response:\n",
    "            if response.status != 200:\n",
    "                return 0\n",
    "            content = await response.read()\n",
    "            save_image(content, f'images/{photo_id}.jpg', reencode=True)\n",
    "        if content is None:\n",
    "            return 0  \n",
    "    except KeyboardInterrupt:\n",
    "        raise\n",
    "    except:\n",
    "        return 0  # replace with `raise` to fail on errors \n",
    "    return 1"
   ]
  },
  {
   "cell_type": "code",
   "execution_count": null,
   "id": "c6a10e84",
   "metadata": {},
   "outputs": [],
   "source": [
    "async def main():\n",
    "    pbar = tqdm(total=len(photos) + len(photos_downloaded), initial=len(photos_downloaded))\n",
    "    async with Pool(processes=4, childconcurrency=100) as pool:\n",
    "        async for result in pool.map(download, photos):\n",
    "            pbar.update(result)\n",
    "    pbar.close()"
   ]
  },
  {
   "cell_type": "code",
   "execution_count": null,
   "id": "2c29280a",
   "metadata": {},
   "outputs": [],
   "source": [
    "await main()"
   ]
  },
  {
   "cell_type": "code",
   "execution_count": null,
   "id": "387d678b-43cb-45d0-89da-fa26ffe64cf0",
   "metadata": {},
   "outputs": [],
   "source": [
    "!ls images"
   ]
  }
 ],
 "metadata": {
  "kernelspec": {
   "display_name": "Python 3 (ipykernel)",
   "language": "python",
   "name": "python3"
  },
  "language_info": {
   "codemirror_mode": {
    "name": "ipython",
    "version": 3
   },
   "file_extension": ".py",
   "mimetype": "text/x-python",
   "name": "python",
   "nbconvert_exporter": "python",
   "pygments_lexer": "ipython3",
   "version": "3.9.10"
  }
 },
 "nbformat": 4,
 "nbformat_minor": 5
}
